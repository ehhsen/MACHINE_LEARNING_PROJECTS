{
  "nbformat": 4,
  "nbformat_minor": 0,
  "metadata": {
    "colab": {
      "private_outputs": true,
      "provenance": [],
      "authorship_tag": "ABX9TyMjQMNmUPM7hoPsAILDuwdY",
      "include_colab_link": true
    },
    "kernelspec": {
      "name": "python3",
      "display_name": "Python 3"
    },
    "language_info": {
      "name": "python"
    }
  },
  "cells": [
    {
      "cell_type": "markdown",
      "metadata": {
        "id": "view-in-github",
        "colab_type": "text"
      },
      "source": [
        "<a href=\"https://colab.research.google.com/github/ehhsen/MACHINE_LEARNING_PROJECTS/blob/main/Untitled28.ipynb\" target=\"_parent\"><img src=\"https://colab.research.google.com/assets/colab-badge.svg\" alt=\"Open In Colab\"/></a>"
      ]
    },
    {
      "cell_type": "code",
      "execution_count": null,
      "metadata": {
        "id": "j5RSwhvbCg42"
      },
      "outputs": [],
      "source": [
        "!pip install scikit-learn"
      ]
    },
    {
      "cell_type": "code",
      "source": [
        "import numpy as np\n",
        "import pandas as pd\n",
        "import pickle as pk\n",
        "from sklearn.model_selection import train_test_split #Fixed typo\n",
        "from sklearn.linear_model import LinearRegression #Fixed typo"
      ],
      "metadata": {
        "id": "65t5U5spDIAB"
      },
      "execution_count": null,
      "outputs": []
    },
    {
      "cell_type": "markdown",
      "source": [
        "**CHECKING AND REMOVING NULL VALUES**"
      ],
      "metadata": {
        "id": "TWFT3kXDDTux"
      }
    },
    {
      "cell_type": "code",
      "source": [
        "df = pd.read_csv('testcar')\n",
        "df.head()"
      ],
      "metadata": {
        "id": "s2mhy5bsDPf4"
      },
      "execution_count": null,
      "outputs": []
    },
    {
      "cell_type": "code",
      "source": [
        "df.dropna()"
      ],
      "metadata": {
        "id": "vuUfARZpD9zK"
      },
      "execution_count": null,
      "outputs": []
    },
    {
      "cell_type": "code",
      "source": [
        "# removing unnecessary column\n",
        "df.drop(columns=['torque'], inplace = True)"
      ],
      "metadata": {
        "id": "pJDQYzgWETi-"
      },
      "execution_count": null,
      "outputs": []
    },
    {
      "cell_type": "code",
      "source": [
        "df.shape"
      ],
      "metadata": {
        "id": "Ddd3T-BNE0I8"
      },
      "execution_count": null,
      "outputs": []
    },
    {
      "cell_type": "code",
      "source": [
        "print(df)"
      ],
      "metadata": {
        "id": "SPi9bEvfE0Vm"
      },
      "execution_count": null,
      "outputs": []
    },
    {
      "cell_type": "code",
      "source": [
        "df.dropna(inplace=True)\n",
        "print(df)"
      ],
      "metadata": {
        "id": "NtOcN8ZAE0iC"
      },
      "execution_count": null,
      "outputs": []
    },
    {
      "cell_type": "code",
      "source": [
        "df.shape"
      ],
      "metadata": {
        "id": "aHnNvcrgFacm"
      },
      "execution_count": null,
      "outputs": []
    },
    {
      "cell_type": "markdown",
      "source": [
        "**PREPROCESSSING**"
      ],
      "metadata": {
        "id": "tde0vR1AFoUw"
      }
    },
    {
      "cell_type": "code",
      "source": [
        "# CHECKING NULL VALUES\n",
        "df.isnull().sum()"
      ],
      "metadata": {
        "id": "cRcN20lmFaoi"
      },
      "execution_count": null,
      "outputs": []
    },
    {
      "cell_type": "code",
      "source": [
        "# Now Duplicate Check:\n",
        "df.duplicated().sum()\n"
      ],
      "metadata": {
        "id": "KGAbPA-aFayj"
      },
      "execution_count": null,
      "outputs": []
    },
    {
      "cell_type": "code",
      "source": [
        "# Dropping the duplicate values also:\n",
        "df.drop_duplicates(inplace=True)"
      ],
      "metadata": {
        "id": "SqbTIaEtFbCd"
      },
      "execution_count": null,
      "outputs": []
    },
    {
      "cell_type": "code",
      "source": [
        "# Now checking the data whether it drop the values or not\n",
        "df.shape"
      ],
      "metadata": {
        "id": "ES8ulhGZFbRH"
      },
      "execution_count": null,
      "outputs": []
    },
    {
      "cell_type": "code",
      "source": [
        "df.info()\n"
      ],
      "metadata": {
        "id": "urj1mSBbFbYB"
      },
      "execution_count": null,
      "outputs": []
    },
    {
      "cell_type": "markdown",
      "source": [
        "**DATA ANALYSIS**"
      ],
      "metadata": {
        "id": "IULQOC9uHCyk"
      }
    },
    {
      "cell_type": "code",
      "source": [
        "# In this we check the type of elements related to each\n",
        "# and every column have.....\n",
        "for col in df.columns:\n",
        "    print('Unique Vaues of ' + col)\n",
        "    print(df[col].unique())\n",
        "    print('<======================================================>')"
      ],
      "metadata": {
        "id": "hnixvp12G_0N"
      },
      "execution_count": null,
      "outputs": []
    },
    {
      "cell_type": "code",
      "source": [
        "# Now we are going to change the categorical columns\n",
        "# car names\n",
        "# fuel\n",
        "# tranmission\n",
        "# seller type etc\n",
        "# into numerical values\n",
        "# Also drop the extra values with mileage and fuel\n",
        "# that are km/l, km/kg etc"
      ],
      "metadata": {
        "id": "WDigxhldG_3q"
      },
      "execution_count": null,
      "outputs": []
    },
    {
      "cell_type": "code",
      "source": [
        "def getbrand(car_name):\n",
        "    car_name = car_name.split(\" \")[0]\n",
        "    return car_name.strip()\n",
        "getbrand('Tata Nexon ')"
      ],
      "metadata": {
        "id": "6lO5WvEkH3z5"
      },
      "execution_count": null,
      "outputs": []
    },
    {
      "cell_type": "code",
      "source": [
        "\n",
        "# def df(value):\n",
        "#     value=value.split(' ')[0]\n",
        "#     value = value.strip()\n",
        "#     if value == '':\n",
        "#         value = 0\n",
        "#     return float(value)\n",
        "# df['name'] = df['name'].apply(getbrand)\n",
        "# df['name'].unique()\n",
        "# Rename the df function to something else, for example, extract_value\n",
        "def extract_value(value):\n",
        "    value=value.split(' ')[0]\n",
        "    value = value.strip()\n",
        "    if value == '':\n",
        "        value = 0\n",
        "    return float(value)\n",
        "\n",
        "df['name'] = df['name'].apply(getbrand)\n",
        "df['name'].unique()"
      ],
      "metadata": {
        "id": "NPwaA7wKIS5S"
      },
      "execution_count": null,
      "outputs": []
    },
    {
      "cell_type": "code",
      "source": [
        "df['name'] = df['name'].apply(getbrand)\n",
        "df['name'].unique()\n",
        "# df['mileage'] = df['mileage'].apply(df)\n",
        "# df['engine'] = df['engine'].apply(df)\n",
        "# df['max_power'] = df['max_power'].apply(df)\n",
        "# df['seats'] = df['seats'].apply(df)\n",
        "# DefaultDict['name'].unique()"
      ],
      "metadata": {
        "id": "lLRZTBTAIX_9"
      },
      "execution_count": null,
      "outputs": []
    },
    {
      "cell_type": "code",
      "source": [
        "# # Now do the same for mileage also\n",
        "# df['mileage'] = df['mileage'].apply(extract_value)\n",
        "# df['max_power'] = df['max_power'].apply(extract_value)\n",
        "# df['engine'] = df['engine'].apply(extract_value)\n",
        "# # Now do the same for mileage also\n",
        "df['mileage'] = df['mileage'].apply(lambda x: extract_value(x) if type(x) == str else x)\n",
        "df['max_power'] = df['max_power'].apply(lambda x: extract_value(x) if type(x) == str else x)\n",
        "df['engine'] = df['engine'].apply(lambda x: extract_value(x) if type(x) == str else x)\n"
      ],
      "metadata": {
        "id": "qHkKQtf5kVsM"
      },
      "execution_count": null,
      "outputs": []
    },
    {
      "cell_type": "code",
      "source": [
        "# now we are going to check all the unique values:\n",
        "# so:\n",
        "for col in df.columns:\n",
        "    print('Unique Vaues of ' + col)\n",
        "    print(df[col].unique())\n",
        "    print('<======================================================>')\n"
      ],
      "metadata": {
        "id": "ajUhNj9xlSI0"
      },
      "execution_count": null,
      "outputs": []
    },
    {
      "cell_type": "code",
      "source": [
        "\n",
        "# Now we are done with the uniqueness:\n",
        "# next step is to change the categorical values to numerical values:\n",
        "df['name'].replace(['Maruti', 'Skoda', 'Honda', 'Hyundai', 'Toyota', 'Ford', 'Renault',\n",
        "       'Mahindra', 'Tata', 'Chevrolet', 'Datsun', 'Jeep', 'Mercedes-Benz',\n",
        "       'Mitsubishi', 'Audi', 'Volkswagen', 'BMW', 'Nissan', 'Lexus',\n",
        "       'Jaguar', 'Land', 'MG', 'Volvo', 'Daewoo', 'Kia', 'Fiat', 'Force',\n",
        "       'Ambassador', 'Ashok', 'Isuzu', 'Opel'],\n",
        "                          [1,2,3,4,5,6,7,8,9,10,11,12,13,14,15,16,17,18,19,20,21,22,23,24,25,26,27,28,29,30,31], inplace = True)# Now we change the transmission type values:\n",
        "df['transmission'].unique()\n",
        "df['transmission'].replace(['Manual', 'Automatic'],\n",
        "                                  [1,2], inplace = True)\n",
        "# DO same for seller_type adn fuel:\n",
        "df['seller_type'].unique()\n",
        "df['seller_type'].replace(['Individual', 'Dealer', 'Trustmark Dealer'],\n",
        "                                 [1,2,3], inplace = True)\n",
        "df['fuel'].unique()\n",
        "df['fuel'].replace(['Diesel', 'Petrol', 'LPG', 'CNG'],\n",
        "                          [1,2,3,4], inplace = True)\n",
        "\n"
      ],
      "metadata": {
        "id": "Jw79ZAG7mD5q"
      },
      "execution_count": null,
      "outputs": []
    },
    {
      "cell_type": "code",
      "source": [
        "df.info()"
      ],
      "metadata": {
        "id": "-e6le0jFqMIs"
      },
      "execution_count": null,
      "outputs": []
    },
    {
      "cell_type": "code",
      "source": [
        "df.info()"
      ],
      "metadata": {
        "id": "Egv3OmeTrRZr"
      },
      "execution_count": null,
      "outputs": []
    },
    {
      "cell_type": "code",
      "source": [
        "df['owner'].unique()\n",
        "df['owner'].replace(['First Owner', 'Second Owner', 'Third Owner', 'Fourth & Above Owner', 'Test Drive Car'],\n",
        "                           [1,2,3,4,5], inplace = True)"
      ],
      "metadata": {
        "id": "8cPD6GbirRn9"
      },
      "execution_count": null,
      "outputs": []
    },
    {
      "cell_type": "code",
      "source": [
        "# Reset the index.......\n",
        "df.reset_index(inplace=True)\n",
        "# cars_Data\n",
        "# drop the index column also\n",
        "df.drop(columns = ['index'])\n"
      ],
      "metadata": {
        "id": "r1mF7fdkrR0M"
      },
      "execution_count": null,
      "outputs": []
    },
    {
      "cell_type": "code",
      "source": [
        "# Now setting the input data and output data.....\n",
        "input_data = df.drop(columns=['selling_price'])\n",
        "output_data = df['selling_price']"
      ],
      "metadata": {
        "id": "ydO9ljY_rR_p"
      },
      "execution_count": null,
      "outputs": []
    },
    {
      "cell_type": "code",
      "source": [
        "# Now we are going to make the set as training and testing:\n",
        "x_train, x_test, y_train, y_test = train_test_split(input_data, output_data, test_size = 0.2)\n"
      ],
      "metadata": {
        "id": "0ae1-6gErSK2"
      },
      "execution_count": null,
      "outputs": []
    },
    {
      "cell_type": "code",
      "source": [
        "model = LinearRegression()\n",
        "model.fit(x_train, y_train)"
      ],
      "metadata": {
        "id": "TSM6t8F5rSVh"
      },
      "execution_count": null,
      "outputs": []
    },
    {
      "cell_type": "code",
      "source": [
        "# now let predict the values:\n",
        "predict = model.predict(x_test)\n",
        "input_data_model = pd.DataFrame(\n",
        "    [[3504, 1,2007,70000,2,1,1,1,18.2,998.0,67.1,5.0]],\n",
        "    columns=['index' , 'name' , 'year' , 'km_driven' , 'fuel' , 'seller_type' , 'transmission' , 'owner' , 'mileage' , 'engine' , 'max_power' , 'seats'])\n",
        "print(input_data_model)"
      ],
      "metadata": {
        "id": "Lq3nKcZhyNrP"
      },
      "execution_count": null,
      "outputs": []
    },
    {
      "cell_type": "code",
      "source": [
        "import pickle as pk\n",
        "pk.dump(model, open('model.pkl', 'wb'))"
      ],
      "metadata": {
        "id": "i11z5bO3ySdd"
      },
      "execution_count": null,
      "outputs": []
    }
  ]
}